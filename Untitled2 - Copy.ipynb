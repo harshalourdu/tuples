{
  "cells": [
    {
      "cell_type": "code",
      "execution_count": null,
      "metadata": {
        "id": "RPKzCNce0qgs"
      },
      "outputs": [],
      "source": []
    },
    {
      "cell_type": "markdown",
      "metadata": {
        "id": "J2iErAt01XOw"
      },
      "source": [
        "Q1. What are the characteristics of the tuples? Is tuple immutable?\n",
        "\n",
        "Q2. What are the two tuple methods in python? Give an example of each method. Give a reason why\n",
        "tuples have only two in-built methods as compared to Lists.\n",
        "\n",
        "Q3. Which collection datatypes in python do not allow duplicate items? Write a code using a set to remove\n",
        "duplicates from the given list.\n",
        "List = [1, 1, 1, 2, 1, 3, 1, 4, 2, 1, 2, 2, 2, 3, 2, 4, 3, 1, 3, 2, 3, 3, 3, 4, 4, 1, 4, 2, 4, 3, 4, 4]\n",
        "\n",
        "Q4. Explain the difference between the union() and update() methods for a set. Give an example of\n",
        "each method.\n",
        "\n",
        "Q5. What is a dictionary? Give an example. Also, state whether a dictionary is ordered or unordered.\n",
        "\n",
        "Q6. Can we create a nested dictionary? If so, please give an example by creating a simple one-level\n",
        "nested dictionary.\n",
        "\n",
        "Q7. Using setdefault() method, create key named topics in the given dictionary and also add the value of\n",
        "the key as this list ['Python', 'Machine Learning’, 'Deep Learning']\n",
        "dict1 = {'language' : 'Python', 'course': 'Data Science Masters'}\n",
        "\n",
        "Q8. What are the three view objects in dictionaries? Use the three in-built methods in python to display\n",
        "these three view objects for the given dictionary.\n",
        "dict1 = {'Sport': 'Cricket' , 'Teams': ['India', 'Australia', 'England', 'South Africa', 'Sri Lanka', 'New Zealand']}"
      ]
    },
    {
      "cell_type": "code",
      "execution_count": null,
      "metadata": {
        "id": "V6oLw1zi4eCW"
      },
      "outputs": [],
      "source": []
    },
    {
      "cell_type": "code",
      "execution_count": null,
      "metadata": {
        "id": "E0eN0mb71Yru"
      },
      "outputs": [],
      "source": []
    },
    {
      "cell_type": "code",
      "execution_count": null,
      "metadata": {
        "id": "Vf98Tq041d7K"
      },
      "outputs": [],
      "source": []
    },
    {
      "cell_type": "markdown",
      "metadata": {
        "id": "LgcG9RLq1eb6"
      },
      "source": [
        "Q1. What are the characteristics of the tuples? Is tuple immutable?\n",
        "\n",
        "tuples are immutable, meaning their contents cannot be changed after creation, while lists are mutable and can be modified. Additionally, tuples are more memory-efficient compared to lists. Tuples can't be changed after they're created, but lists can be modified.\n",
        "\n",
        "\n",
        "Q2. What are the two tuple methods in python? Give an example of each method. Give a reason why tuples have only two in-built methods as compared to Lists.\n",
        "\n",
        "Key tuple methods include count(), index(), len(), and sorted() Tuples to store fixed data, serve as dictionary keys, and return values from functions. While similar to lists, basic tuple operations in python are immutable and generally used for different purposes in Python."
      ]
    },
    {
      "cell_type": "code",
      "execution_count": 8,
      "metadata": {
        "id": "JFrHRljO2IqO"
      },
      "outputs": [],
      "source": [
        "# Q3. Which collection datatypes in python do not allow duplicate items? Write a code using a set to remove duplicates from the given list. List = [1, 1, 1, 2, 1, 3, 1, 4, 2, 1, 2, 2, 2, 3, 2, 4, 3, 1, 3, 2, 3, 3, 3, 4, 4, 1, 4, 2, 4, 3, 4, 4]"
      ]
    },
    {
      "cell_type": "code",
      "execution_count": 9,
      "metadata": {
        "colab": {
          "base_uri": "https://localhost:8080/"
        },
        "id": "c6ln4Q7t2KB_",
        "outputId": "6a34d539-e83b-4a72-e254-9edf7ae8bca8"
      },
      "outputs": [
        {
          "name": "stdout",
          "output_type": "stream",
          "text": [
            "[1, 2, 3, 4]\n"
          ]
        }
      ],
      "source": [
        "# Given list with duplicates\n",
        "input_list = [1, 1, 1, 2, 1, 3, 1, 4, 2, 1, 2, 2, 2, 3, 2, 4, 3, 1, 3, 2, 3, 3, 3, 4, 4, 1, 4, 2, 4, 3, 4, 4]\n",
        "\n",
        "# Remove duplicates by converting the list into a set\n",
        "unique_items = set(input_list)\n",
        "\n",
        "# Convert the set back to a list (if needed)\n",
        "unique_list = list(unique_items)\n",
        "\n",
        "# Output the unique list\n",
        "print(unique_list)\n"
      ]
    },
    {
      "cell_type": "code",
      "execution_count": null,
      "metadata": {
        "id": "LdPoRh8J2RgV"
      },
      "outputs": [],
      "source": []
    },
    {
      "cell_type": "markdown",
      "metadata": {
        "id": "2Ap9YLO82V5_"
      },
      "source": [
        "Q4. Explain the difference between the union() and update() methods for a set. Give an example of each method.\n",
        "\n",
        "The union() and update() methods prints all items that are present in the two sets. The union() method returns a new set whereas update() method adds item into the existing set from another set.\n",
        "\n",
        "\n",
        "Q5. What is a dictionary? Give an example. Also, state whether a dictionary is ordered or unordered.\n",
        "\n",
        "A dictionary in Python is an unordered collection of data stored in key-value pairs. Each key must be unique and immutable, while the values can be of any data type and can be duplicated. Dictionaries are widely used to store and retrieve data quickly based on a key.\n"
      ]
    },
    {
      "cell_type": "code",
      "execution_count": 10,
      "metadata": {
        "id": "mbWaWdOV31Rt"
      },
      "outputs": [],
      "source": [
        "# Q6. Can we create a nested dictionary? If so, please give an example by creating a simple one-level nested dictionary."
      ]
    },
    {
      "cell_type": "code",
      "execution_count": 2,
      "metadata": {
        "colab": {
          "base_uri": "https://localhost:8080/"
        },
        "id": "eZqumhqg37h2",
        "outputId": "b90befdf-393f-4a08-af45-a426446ad03f"
      },
      "outputs": [
        {
          "name": "stdout",
          "output_type": "stream",
          "text": [
            "{'student1': {'name': 'Alice', 'age': 20, 'subjects': ['Math', 'Science', 'English']}, 'student2': {'name': 'Bob', 'age': 22, 'subjects': ['History', 'Math', 'Art']}}\n"
          ]
        }
      ],
      "source": [
        "# Creating a nested dictionary\n",
        "nested_dict = {\n",
        "    \"student1\": {\n",
        "        \"name\": \"Alice\",\n",
        "        \"age\": 20,\n",
        "        \"subjects\": [\"Math\", \"Science\", \"English\"]\n",
        "    },\n",
        "    \"student2\": {\n",
        "        \"name\": \"Bob\",\n",
        "        \"age\": 22,\n",
        "        \"subjects\": [\"History\", \"Math\", \"Art\"]\n",
        "    }\n",
        "}\n",
        "\n",
        "# Printing the nested dictionary\n",
        "print(nested_dict)\n"
      ]
    },
    {
      "cell_type": "code",
      "execution_count": 11,
      "metadata": {
        "id": "3yOSAM-G4AkE"
      },
      "outputs": [],
      "source": [
        "# Q7. Using setdefault() method, create key named topics in the given dictionary and also add the value of the key as this list ['Python', 'Machine Learning’, 'Deep Learning'] dict1 = {'language' : 'Python', 'course': 'Data Science Masters'}"
      ]
    },
    {
      "cell_type": "code",
      "execution_count": 5,
      "metadata": {
        "colab": {
          "base_uri": "https://localhost:8080/"
        },
        "id": "dTxbDvAD4Ydl",
        "outputId": "f1531950-5595-4800-f9f8-d5a97aa90054"
      },
      "outputs": [
        {
          "name": "stdout",
          "output_type": "stream",
          "text": [
            "{'language': 'Python', 'course': 'Data Science Masters', 'topics': ['Python', 'Machine Learning', 'Deep Learning']}\n"
          ]
        }
      ],
      "source": [
        "# Given dictionary\n",
        "dict1 = {'language': 'Python', 'course': 'Data Science Masters'}\n",
        "\n",
        "# Using setdefault() to create 'topics' key and assign a value to it\n",
        "dict1.setdefault('topics', ['Python', 'Machine Learning', 'Deep Learning'])\n",
        "\n",
        "# Printing the updated dictionary\n",
        "print(dict1)\n"
      ]
    },
    {
      "cell_type": "code",
      "execution_count": 12,
      "metadata": {
        "id": "zXkZ51xN4gOr"
      },
      "outputs": [],
      "source": [
        "# Q8. What are the three view objects in dictionaries? Use the three in-built methods in python to display these three view objects for the given dictionary. dict1 = {'Sport': 'Cricket' , 'Teams': ['India', 'Australia', 'England', 'South Africa', 'Sri Lanka', 'New Zealand']}"
      ]
    },
    {
      "cell_type": "code",
      "execution_count": 7,
      "metadata": {
        "colab": {
          "base_uri": "https://localhost:8080/"
        },
        "id": "fxrSdUll4hTT",
        "outputId": "11f221a6-056c-4f30-a88d-a91ad5807a0c"
      },
      "outputs": [
        {
          "name": "stdout",
          "output_type": "stream",
          "text": [
            "Keys: dict_keys(['Sport', 'Teams'])\n",
            "Values: dict_values(['Cricket', ['India', 'Australia', 'England', 'South Africa', 'Sri Lanka', 'New Zealand']])\n",
            "Items: dict_items([('Sport', 'Cricket'), ('Teams', ['India', 'Australia', 'England', 'South Africa', 'Sri Lanka', 'New Zealand'])])\n"
          ]
        }
      ],
      "source": [
        "# Given dictionary\n",
        "dict1 = {'Sport': 'Cricket', 'Teams': ['India', 'Australia', 'England', 'South Africa', 'Sri Lanka', 'New Zealand']}\n",
        "\n",
        "# Displaying keys using dict.keys()\n",
        "print(\"Keys:\", dict1.keys())\n",
        "\n",
        "# Displaying values using dict.values()\n",
        "print(\"Values:\", dict1.values())\n",
        "\n",
        "# Displaying key-value pairs using dict.items()\n",
        "print(\"Items:\", dict1.items())\n"
      ]
    },
    {
      "cell_type": "code",
      "execution_count": null,
      "metadata": {
        "id": "CNejBuiI4kic"
      },
      "outputs": [],
      "source": []
    }
  ],
  "metadata": {
    "colab": {
      "provenance": [],
      "toc_visible": true
    },
    "kernelspec": {
      "display_name": "Python 3",
      "name": "python3"
    },
    "language_info": {
      "codemirror_mode": {
        "name": "ipython",
        "version": 3
      },
      "file_extension": ".py",
      "mimetype": "text/x-python",
      "name": "python",
      "nbconvert_exporter": "python",
      "pygments_lexer": "ipython3",
      "version": "3.12.4"
    }
  },
  "nbformat": 4,
  "nbformat_minor": 0
}
